{
 "cells": [
  {
   "cell_type": "code",
   "execution_count": 1,
   "metadata": {},
   "outputs": [],
   "source": [
    "import pandas as pd\n",
    "import seaborn as sns\n",
    "sns.set(style=\"darkgrid\")\n",
    "%matplotlib inline"
   ]
  },
  {
   "cell_type": "code",
   "execution_count": 3,
   "metadata": {},
   "outputs": [
    {
     "name": "stderr",
     "output_type": "stream",
     "text": [
      "/anaconda3/lib/python3.7/site-packages/IPython/core/interactiveshell.py:3058: DtypeWarning: Columns (108) have mixed types. Specify dtype option on import or set low_memory=False.\n",
      "  interactivity=interactivity, compiler=compiler, result=result)\n"
     ]
    }
   ],
   "source": [
    "df = pd.read_csv('../data/external/base_adultos_mayores.txt', sep=\"|\")"
   ]
  },
  {
   "cell_type": "code",
   "execution_count": 4,
   "metadata": {},
   "outputs": [
    {
     "data": {
      "text/html": [
       "<div>\n",
       "<style scoped>\n",
       "    .dataframe tbody tr th:only-of-type {\n",
       "        vertical-align: middle;\n",
       "    }\n",
       "\n",
       "    .dataframe tbody tr th {\n",
       "        vertical-align: top;\n",
       "    }\n",
       "\n",
       "    .dataframe thead th {\n",
       "        text-align: right;\n",
       "    }\n",
       "</style>\n",
       "<table border=\"1\" class=\"dataframe\">\n",
       "  <thead>\n",
       "    <tr style=\"text-align: right;\">\n",
       "      <th></th>\n",
       "      <th>ID</th>\n",
       "      <th>CODUSU</th>\n",
       "      <th>NRO_HOGAR</th>\n",
       "      <th>POND_CALIBRADA</th>\n",
       "      <th>IV1</th>\n",
       "      <th>IV2</th>\n",
       "      <th>IV3</th>\n",
       "      <th>IV4</th>\n",
       "      <th>IV5</th>\n",
       "      <th>IV6</th>\n",
       "      <th>...</th>\n",
       "      <th>PAD01_02</th>\n",
       "      <th>PAD01_03</th>\n",
       "      <th>PAD01_04</th>\n",
       "      <th>PAD01_05</th>\n",
       "      <th>SV01</th>\n",
       "      <th>SV02</th>\n",
       "      <th>SV03</th>\n",
       "      <th>SV04</th>\n",
       "      <th>SV05</th>\n",
       "      <th>NSV</th>\n",
       "    </tr>\n",
       "  </thead>\n",
       "  <tbody>\n",
       "    <tr>\n",
       "      <th>0</th>\n",
       "      <td>52522</td>\n",
       "      <td>E141079</td>\n",
       "      <td>1</td>\n",
       "      <td>33</td>\n",
       "      <td>1</td>\n",
       "      <td>2</td>\n",
       "      <td>1</td>\n",
       "      <td>4</td>\n",
       "      <td>1</td>\n",
       "      <td>1</td>\n",
       "      <td>...</td>\n",
       "      <td>1</td>\n",
       "      <td>1</td>\n",
       "      <td>1</td>\n",
       "      <td>2</td>\n",
       "      <td>7</td>\n",
       "      <td>7</td>\n",
       "      <td>7</td>\n",
       "      <td>7</td>\n",
       "      <td>7</td>\n",
       "      <td>1</td>\n",
       "    </tr>\n",
       "    <tr>\n",
       "      <th>1</th>\n",
       "      <td>52648</td>\n",
       "      <td>E137610</td>\n",
       "      <td>1</td>\n",
       "      <td>33</td>\n",
       "      <td>1</td>\n",
       "      <td>3</td>\n",
       "      <td>2</td>\n",
       "      <td>4</td>\n",
       "      <td>1</td>\n",
       "      <td>1</td>\n",
       "      <td>...</td>\n",
       "      <td>2</td>\n",
       "      <td>2</td>\n",
       "      <td>2</td>\n",
       "      <td>2</td>\n",
       "      <td>7</td>\n",
       "      <td>6</td>\n",
       "      <td>7</td>\n",
       "      <td>7</td>\n",
       "      <td>7</td>\n",
       "      <td>1</td>\n",
       "    </tr>\n",
       "    <tr>\n",
       "      <th>2</th>\n",
       "      <td>52593</td>\n",
       "      <td>E140900</td>\n",
       "      <td>1</td>\n",
       "      <td>33</td>\n",
       "      <td>1</td>\n",
       "      <td>3</td>\n",
       "      <td>1</td>\n",
       "      <td>1</td>\n",
       "      <td>1</td>\n",
       "      <td>1</td>\n",
       "      <td>...</td>\n",
       "      <td>1</td>\n",
       "      <td>1</td>\n",
       "      <td>1</td>\n",
       "      <td>2</td>\n",
       "      <td>6</td>\n",
       "      <td>6</td>\n",
       "      <td>6</td>\n",
       "      <td>7</td>\n",
       "      <td>6</td>\n",
       "      <td>1</td>\n",
       "    </tr>\n",
       "    <tr>\n",
       "      <th>3</th>\n",
       "      <td>52379</td>\n",
       "      <td>E144809</td>\n",
       "      <td>1</td>\n",
       "      <td>33</td>\n",
       "      <td>1</td>\n",
       "      <td>3</td>\n",
       "      <td>1</td>\n",
       "      <td>4</td>\n",
       "      <td>1</td>\n",
       "      <td>1</td>\n",
       "      <td>...</td>\n",
       "      <td>1</td>\n",
       "      <td>1</td>\n",
       "      <td>1</td>\n",
       "      <td>2</td>\n",
       "      <td>6</td>\n",
       "      <td>6</td>\n",
       "      <td>6</td>\n",
       "      <td>6</td>\n",
       "      <td>6</td>\n",
       "      <td>1</td>\n",
       "    </tr>\n",
       "    <tr>\n",
       "      <th>4</th>\n",
       "      <td>31889</td>\n",
       "      <td>E150491</td>\n",
       "      <td>1</td>\n",
       "      <td>34</td>\n",
       "      <td>1</td>\n",
       "      <td>2</td>\n",
       "      <td>2</td>\n",
       "      <td>7</td>\n",
       "      <td>2</td>\n",
       "      <td>2</td>\n",
       "      <td>...</td>\n",
       "      <td>2</td>\n",
       "      <td>1</td>\n",
       "      <td>1</td>\n",
       "      <td>2</td>\n",
       "      <td>6</td>\n",
       "      <td>6</td>\n",
       "      <td>6</td>\n",
       "      <td>6</td>\n",
       "      <td>6</td>\n",
       "      <td>1</td>\n",
       "    </tr>\n",
       "  </tbody>\n",
       "</table>\n",
       "<p>5 rows × 321 columns</p>\n",
       "</div>"
      ],
      "text/plain": [
       "      ID   CODUSU  NRO_HOGAR  POND_CALIBRADA  IV1  IV2  IV3  IV4  IV5  IV6  \\\n",
       "0  52522  E141079          1              33    1    2    1    4    1    1   \n",
       "1  52648  E137610          1              33    1    3    2    4    1    1   \n",
       "2  52593  E140900          1              33    1    3    1    1    1    1   \n",
       "3  52379  E144809          1              33    1    3    1    4    1    1   \n",
       "4  31889  E150491          1              34    1    2    2    7    2    2   \n",
       "\n",
       "   ...  PAD01_02  PAD01_03  PAD01_04  PAD01_05  SV01  SV02  SV03  SV04  SV05  \\\n",
       "0  ...         1         1         1         2     7     7     7     7     7   \n",
       "1  ...         2         2         2         2     7     6     7     7     7   \n",
       "2  ...         1         1         1         2     6     6     6     7     6   \n",
       "3  ...         1         1         1         2     6     6     6     6     6   \n",
       "4  ...         2         1         1         2     6     6     6     6     6   \n",
       "\n",
       "   NSV  \n",
       "0    1  \n",
       "1    1  \n",
       "2    1  \n",
       "3    1  \n",
       "4    1  \n",
       "\n",
       "[5 rows x 321 columns]"
      ]
     },
     "execution_count": 4,
     "metadata": {},
     "output_type": "execute_result"
    }
   ],
   "source": [
    "df.head()"
   ]
  },
  {
   "cell_type": "code",
   "execution_count": 5,
   "metadata": {},
   "outputs": [
    {
     "data": {
      "text/html": [
       "<div>\n",
       "<style scoped>\n",
       "    .dataframe tbody tr th:only-of-type {\n",
       "        vertical-align: middle;\n",
       "    }\n",
       "\n",
       "    .dataframe tbody tr th {\n",
       "        vertical-align: top;\n",
       "    }\n",
       "\n",
       "    .dataframe thead th {\n",
       "        text-align: right;\n",
       "    }\n",
       "</style>\n",
       "<table border=\"1\" class=\"dataframe\">\n",
       "  <thead>\n",
       "    <tr style=\"text-align: right;\">\n",
       "      <th></th>\n",
       "      <th>ID</th>\n",
       "      <th>NRO_HOGAR</th>\n",
       "      <th>POND_CALIBRADA</th>\n",
       "      <th>IV1</th>\n",
       "      <th>IV2</th>\n",
       "      <th>IV3</th>\n",
       "      <th>IV4</th>\n",
       "      <th>IV5</th>\n",
       "      <th>IV6</th>\n",
       "      <th>IV7</th>\n",
       "      <th>...</th>\n",
       "      <th>PAD01_02</th>\n",
       "      <th>PAD01_03</th>\n",
       "      <th>PAD01_04</th>\n",
       "      <th>PAD01_05</th>\n",
       "      <th>SV01</th>\n",
       "      <th>SV02</th>\n",
       "      <th>SV03</th>\n",
       "      <th>SV04</th>\n",
       "      <th>SV05</th>\n",
       "      <th>NSV</th>\n",
       "    </tr>\n",
       "  </thead>\n",
       "  <tbody>\n",
       "    <tr>\n",
       "      <th>count</th>\n",
       "      <td>4654.000000</td>\n",
       "      <td>4654.000000</td>\n",
       "      <td>4654.000000</td>\n",
       "      <td>4654.000000</td>\n",
       "      <td>4654.000000</td>\n",
       "      <td>4654.000000</td>\n",
       "      <td>4654.000000</td>\n",
       "      <td>4654.000000</td>\n",
       "      <td>4654.000000</td>\n",
       "      <td>4654.000000</td>\n",
       "      <td>...</td>\n",
       "      <td>4654.000000</td>\n",
       "      <td>4654.000000</td>\n",
       "      <td>4654.000000</td>\n",
       "      <td>4654.000000</td>\n",
       "      <td>4654.000000</td>\n",
       "      <td>4654.000000</td>\n",
       "      <td>4654.000000</td>\n",
       "      <td>4654.000000</td>\n",
       "      <td>4654.000000</td>\n",
       "      <td>4654.000000</td>\n",
       "    </tr>\n",
       "    <tr>\n",
       "      <th>mean</th>\n",
       "      <td>27636.026214</td>\n",
       "      <td>1.017834</td>\n",
       "      <td>1211.910615</td>\n",
       "      <td>1.097121</td>\n",
       "      <td>3.278470</td>\n",
       "      <td>1.204125</td>\n",
       "      <td>2.874517</td>\n",
       "      <td>1.183283</td>\n",
       "      <td>1.060808</td>\n",
       "      <td>1.052858</td>\n",
       "      <td>...</td>\n",
       "      <td>1.250322</td>\n",
       "      <td>1.353245</td>\n",
       "      <td>1.246240</td>\n",
       "      <td>1.626773</td>\n",
       "      <td>5.439192</td>\n",
       "      <td>5.356468</td>\n",
       "      <td>5.922647</td>\n",
       "      <td>5.842501</td>\n",
       "      <td>5.448002</td>\n",
       "      <td>1.839063</td>\n",
       "    </tr>\n",
       "    <tr>\n",
       "      <th>std</th>\n",
       "      <td>15445.577285</td>\n",
       "      <td>0.137147</td>\n",
       "      <td>1926.705423</td>\n",
       "      <td>0.345709</td>\n",
       "      <td>1.195585</td>\n",
       "      <td>0.482686</td>\n",
       "      <td>1.715952</td>\n",
       "      <td>0.386940</td>\n",
       "      <td>0.245217</td>\n",
       "      <td>0.286900</td>\n",
       "      <td>...</td>\n",
       "      <td>0.433245</td>\n",
       "      <td>0.478029</td>\n",
       "      <td>0.430866</td>\n",
       "      <td>0.483714</td>\n",
       "      <td>1.431305</td>\n",
       "      <td>1.516555</td>\n",
       "      <td>1.223573</td>\n",
       "      <td>1.254397</td>\n",
       "      <td>1.635946</td>\n",
       "      <td>1.060238</td>\n",
       "    </tr>\n",
       "    <tr>\n",
       "      <th>min</th>\n",
       "      <td>37.000000</td>\n",
       "      <td>1.000000</td>\n",
       "      <td>14.000000</td>\n",
       "      <td>1.000000</td>\n",
       "      <td>1.000000</td>\n",
       "      <td>1.000000</td>\n",
       "      <td>1.000000</td>\n",
       "      <td>1.000000</td>\n",
       "      <td>1.000000</td>\n",
       "      <td>1.000000</td>\n",
       "      <td>...</td>\n",
       "      <td>1.000000</td>\n",
       "      <td>1.000000</td>\n",
       "      <td>1.000000</td>\n",
       "      <td>1.000000</td>\n",
       "      <td>1.000000</td>\n",
       "      <td>1.000000</td>\n",
       "      <td>1.000000</td>\n",
       "      <td>1.000000</td>\n",
       "      <td>1.000000</td>\n",
       "      <td>1.000000</td>\n",
       "    </tr>\n",
       "    <tr>\n",
       "      <th>25%</th>\n",
       "      <td>14644.500000</td>\n",
       "      <td>1.000000</td>\n",
       "      <td>264.000000</td>\n",
       "      <td>1.000000</td>\n",
       "      <td>3.000000</td>\n",
       "      <td>1.000000</td>\n",
       "      <td>1.000000</td>\n",
       "      <td>1.000000</td>\n",
       "      <td>1.000000</td>\n",
       "      <td>1.000000</td>\n",
       "      <td>...</td>\n",
       "      <td>1.000000</td>\n",
       "      <td>1.000000</td>\n",
       "      <td>1.000000</td>\n",
       "      <td>1.000000</td>\n",
       "      <td>5.000000</td>\n",
       "      <td>5.000000</td>\n",
       "      <td>6.000000</td>\n",
       "      <td>5.000000</td>\n",
       "      <td>5.000000</td>\n",
       "      <td>1.000000</td>\n",
       "    </tr>\n",
       "    <tr>\n",
       "      <th>50%</th>\n",
       "      <td>27855.500000</td>\n",
       "      <td>1.000000</td>\n",
       "      <td>587.500000</td>\n",
       "      <td>1.000000</td>\n",
       "      <td>3.000000</td>\n",
       "      <td>1.000000</td>\n",
       "      <td>3.000000</td>\n",
       "      <td>1.000000</td>\n",
       "      <td>1.000000</td>\n",
       "      <td>1.000000</td>\n",
       "      <td>...</td>\n",
       "      <td>1.000000</td>\n",
       "      <td>1.000000</td>\n",
       "      <td>1.000000</td>\n",
       "      <td>2.000000</td>\n",
       "      <td>6.000000</td>\n",
       "      <td>6.000000</td>\n",
       "      <td>6.000000</td>\n",
       "      <td>6.000000</td>\n",
       "      <td>6.000000</td>\n",
       "      <td>2.000000</td>\n",
       "    </tr>\n",
       "    <tr>\n",
       "      <th>75%</th>\n",
       "      <td>40930.750000</td>\n",
       "      <td>1.000000</td>\n",
       "      <td>1255.000000</td>\n",
       "      <td>1.000000</td>\n",
       "      <td>4.000000</td>\n",
       "      <td>1.000000</td>\n",
       "      <td>4.000000</td>\n",
       "      <td>1.000000</td>\n",
       "      <td>1.000000</td>\n",
       "      <td>1.000000</td>\n",
       "      <td>...</td>\n",
       "      <td>2.000000</td>\n",
       "      <td>2.000000</td>\n",
       "      <td>1.000000</td>\n",
       "      <td>2.000000</td>\n",
       "      <td>6.000000</td>\n",
       "      <td>6.000000</td>\n",
       "      <td>7.000000</td>\n",
       "      <td>7.000000</td>\n",
       "      <td>7.000000</td>\n",
       "      <td>2.000000</td>\n",
       "    </tr>\n",
       "    <tr>\n",
       "      <th>max</th>\n",
       "      <td>54441.000000</td>\n",
       "      <td>3.000000</td>\n",
       "      <td>17254.000000</td>\n",
       "      <td>6.000000</td>\n",
       "      <td>10.000000</td>\n",
       "      <td>9.000000</td>\n",
       "      <td>9.000000</td>\n",
       "      <td>2.000000</td>\n",
       "      <td>3.000000</td>\n",
       "      <td>4.000000</td>\n",
       "      <td>...</td>\n",
       "      <td>2.000000</td>\n",
       "      <td>2.000000</td>\n",
       "      <td>2.000000</td>\n",
       "      <td>2.000000</td>\n",
       "      <td>7.000000</td>\n",
       "      <td>7.000000</td>\n",
       "      <td>7.000000</td>\n",
       "      <td>7.000000</td>\n",
       "      <td>7.000000</td>\n",
       "      <td>6.000000</td>\n",
       "    </tr>\n",
       "  </tbody>\n",
       "</table>\n",
       "<p>8 rows × 317 columns</p>\n",
       "</div>"
      ],
      "text/plain": [
       "                 ID    NRO_HOGAR  POND_CALIBRADA          IV1          IV2  \\\n",
       "count   4654.000000  4654.000000     4654.000000  4654.000000  4654.000000   \n",
       "mean   27636.026214     1.017834     1211.910615     1.097121     3.278470   \n",
       "std    15445.577285     0.137147     1926.705423     0.345709     1.195585   \n",
       "min       37.000000     1.000000       14.000000     1.000000     1.000000   \n",
       "25%    14644.500000     1.000000      264.000000     1.000000     3.000000   \n",
       "50%    27855.500000     1.000000      587.500000     1.000000     3.000000   \n",
       "75%    40930.750000     1.000000     1255.000000     1.000000     4.000000   \n",
       "max    54441.000000     3.000000    17254.000000     6.000000    10.000000   \n",
       "\n",
       "               IV3          IV4          IV5          IV6          IV7  ...  \\\n",
       "count  4654.000000  4654.000000  4654.000000  4654.000000  4654.000000  ...   \n",
       "mean      1.204125     2.874517     1.183283     1.060808     1.052858  ...   \n",
       "std       0.482686     1.715952     0.386940     0.245217     0.286900  ...   \n",
       "min       1.000000     1.000000     1.000000     1.000000     1.000000  ...   \n",
       "25%       1.000000     1.000000     1.000000     1.000000     1.000000  ...   \n",
       "50%       1.000000     3.000000     1.000000     1.000000     1.000000  ...   \n",
       "75%       1.000000     4.000000     1.000000     1.000000     1.000000  ...   \n",
       "max       9.000000     9.000000     2.000000     3.000000     4.000000  ...   \n",
       "\n",
       "          PAD01_02     PAD01_03     PAD01_04     PAD01_05         SV01  \\\n",
       "count  4654.000000  4654.000000  4654.000000  4654.000000  4654.000000   \n",
       "mean      1.250322     1.353245     1.246240     1.626773     5.439192   \n",
       "std       0.433245     0.478029     0.430866     0.483714     1.431305   \n",
       "min       1.000000     1.000000     1.000000     1.000000     1.000000   \n",
       "25%       1.000000     1.000000     1.000000     1.000000     5.000000   \n",
       "50%       1.000000     1.000000     1.000000     2.000000     6.000000   \n",
       "75%       2.000000     2.000000     1.000000     2.000000     6.000000   \n",
       "max       2.000000     2.000000     2.000000     2.000000     7.000000   \n",
       "\n",
       "              SV02         SV03         SV04         SV05          NSV  \n",
       "count  4654.000000  4654.000000  4654.000000  4654.000000  4654.000000  \n",
       "mean      5.356468     5.922647     5.842501     5.448002     1.839063  \n",
       "std       1.516555     1.223573     1.254397     1.635946     1.060238  \n",
       "min       1.000000     1.000000     1.000000     1.000000     1.000000  \n",
       "25%       5.000000     6.000000     5.000000     5.000000     1.000000  \n",
       "50%       6.000000     6.000000     6.000000     6.000000     2.000000  \n",
       "75%       6.000000     7.000000     7.000000     7.000000     2.000000  \n",
       "max       7.000000     7.000000     7.000000     7.000000     6.000000  \n",
       "\n",
       "[8 rows x 317 columns]"
      ]
     },
     "execution_count": 5,
     "metadata": {},
     "output_type": "execute_result"
    }
   ],
   "source": [
    "df.describe()"
   ]
  },
  {
   "cell_type": "code",
   "execution_count": 6,
   "metadata": {},
   "outputs": [
    {
     "data": {
      "text/plain": [
       "(4654, 321)"
      ]
     },
     "execution_count": 6,
     "metadata": {},
     "output_type": "execute_result"
    }
   ],
   "source": [
    "df.shape"
   ]
  },
  {
   "cell_type": "code",
   "execution_count": 7,
   "metadata": {},
   "outputs": [
    {
     "data": {
      "text/plain": [
       "['ID',\n",
       " 'CODUSU',\n",
       " 'NRO_HOGAR',\n",
       " 'POND_CALIBRADA',\n",
       " 'IV1',\n",
       " 'IV2',\n",
       " 'IV3',\n",
       " 'IV4',\n",
       " 'IV5',\n",
       " 'IV6',\n",
       " 'IV7',\n",
       " 'IV8',\n",
       " 'IV9',\n",
       " 'IV10',\n",
       " 'IV11',\n",
       " 'IV12_1',\n",
       " 'IV12_2',\n",
       " 'IV12_3',\n",
       " 'II1',\n",
       " 'II2',\n",
       " 'II3',\n",
       " 'II3_1',\n",
       " 'II4_1',\n",
       " 'II4_2',\n",
       " 'II4_3',\n",
       " 'II5',\n",
       " 'II5_1',\n",
       " 'II6',\n",
       " 'II6_1',\n",
       " 'II7',\n",
       " 'II8',\n",
       " 'II9',\n",
       " 'V1',\n",
       " 'V2',\n",
       " 'V21',\n",
       " 'V3',\n",
       " 'V4',\n",
       " 'V5',\n",
       " 'V6',\n",
       " 'V7',\n",
       " 'V8',\n",
       " 'V9',\n",
       " 'V10',\n",
       " 'V11',\n",
       " 'V12',\n",
       " 'V13',\n",
       " 'V14',\n",
       " 'V15',\n",
       " 'V16',\n",
       " 'V17',\n",
       " 'V18',\n",
       " 'V19_A',\n",
       " 'V19_B',\n",
       " 'IX_TOT',\n",
       " 'IX_MEN10',\n",
       " 'IX_MAYEQ10',\n",
       " 'ESTRATO_HOGAR',\n",
       " 'ITF',\n",
       " 'DECIFR',\n",
       " 'IPCF',\n",
       " 'DECCFR',\n",
       " 'VII1_1',\n",
       " 'VII1_2',\n",
       " 'VII2_1',\n",
       " 'VII2_2',\n",
       " 'VII2_3',\n",
       " 'VII2_4',\n",
       " 'COMPONENTE',\n",
       " 'SEXO',\n",
       " 'EDAD',\n",
       " 'CH03',\n",
       " 'CH07',\n",
       " 'CH08',\n",
       " 'CH09',\n",
       " 'CH10',\n",
       " 'CH11',\n",
       " 'CH12',\n",
       " 'CH13',\n",
       " 'CH14',\n",
       " 'CH15',\n",
       " 'CH15_COD',\n",
       " 'CH16',\n",
       " 'CH16_COD',\n",
       " 'NIVEL_ED',\n",
       " 'ESTADO',\n",
       " 'CAT_OCUP',\n",
       " 'CAT_INAC',\n",
       " 'PP02C1',\n",
       " 'PP02C2',\n",
       " 'PP02C3',\n",
       " 'PP02C4',\n",
       " 'PP02C5',\n",
       " 'PP02C6',\n",
       " 'PP02C7',\n",
       " 'PP02C8',\n",
       " 'PP02E',\n",
       " 'PP02H',\n",
       " 'PP02I',\n",
       " 'PP03C',\n",
       " 'PP03D',\n",
       " 'PP3E_TOT',\n",
       " 'PP3F_TOT',\n",
       " 'PP03G',\n",
       " 'PP03H',\n",
       " 'PP03I',\n",
       " 'PP03J',\n",
       " 'INTENSI',\n",
       " 'PP04A',\n",
       " 'PP04B_COD',\n",
       " 'PP04B1',\n",
       " 'PP04B2',\n",
       " 'PP04B3_MES',\n",
       " 'PP04B3_ANO',\n",
       " 'PP04B3_DIA',\n",
       " 'PP04C',\n",
       " 'PP04C99',\n",
       " 'PP04D_COD',\n",
       " 'PP04G',\n",
       " 'PP05B2_MES',\n",
       " 'PP05B2_ANO',\n",
       " 'PP05B2_DIA',\n",
       " 'PP05C_1',\n",
       " 'PP05C_2',\n",
       " 'PP05C_3',\n",
       " 'PP05E',\n",
       " 'PP05F',\n",
       " 'PP05H',\n",
       " 'PP06A',\n",
       " 'PP06C',\n",
       " 'PP06D',\n",
       " 'PP06E',\n",
       " 'PP06H',\n",
       " 'PP07A',\n",
       " 'PP07C',\n",
       " 'PP07D',\n",
       " 'PP07E',\n",
       " 'PP07F1',\n",
       " 'PP07F2',\n",
       " 'PP07F3',\n",
       " 'PP07F4',\n",
       " 'PP07F5',\n",
       " 'PP07G1',\n",
       " 'PP07G2',\n",
       " 'PP07G3',\n",
       " 'PP07G4',\n",
       " 'PP07G_59',\n",
       " 'PP07H',\n",
       " 'PP07I',\n",
       " 'PP07J',\n",
       " 'PP07K',\n",
       " 'PP08D1',\n",
       " 'PP08D4',\n",
       " 'PP08F1',\n",
       " 'PP08F2',\n",
       " 'PP08J1',\n",
       " 'PP08J2',\n",
       " 'PP08J3',\n",
       " 'PP10A',\n",
       " 'PP10C',\n",
       " 'PP10D',\n",
       " 'PP10E',\n",
       " 'PP11A',\n",
       " 'PP11B_COD',\n",
       " 'PP11B1',\n",
       " 'PP11B2_MES',\n",
       " 'PP11B2_ANO',\n",
       " 'PP11B2_DIA',\n",
       " 'PP11C',\n",
       " 'PP11C99',\n",
       " 'PP11D_COD',\n",
       " 'PP11G_ANO',\n",
       " 'PP11G_MES',\n",
       " 'PP11G_DIA',\n",
       " 'PP11L',\n",
       " 'PP11L1',\n",
       " 'PP11M',\n",
       " 'PP11N',\n",
       " 'PP11O',\n",
       " 'PP11P',\n",
       " 'PP11Q',\n",
       " 'PP11R',\n",
       " 'PP11S',\n",
       " 'PP11T',\n",
       " 'P21',\n",
       " 'DECOCUR',\n",
       " 'TOT_P12',\n",
       " 'P47T',\n",
       " 'DECINDR',\n",
       " 'V2_M',\n",
       " 'V3_M',\n",
       " 'V4_M',\n",
       " 'V5_M',\n",
       " 'V8_M',\n",
       " 'V9_M',\n",
       " 'V10_M',\n",
       " 'V11_M',\n",
       " 'V12_M',\n",
       " 'V18_M',\n",
       " 'V19_AM',\n",
       " 'V21_M',\n",
       " 'T_VI',\n",
       " 'AU01',\n",
       " 'AU02',\n",
       " 'AU03',\n",
       " 'AU04',\n",
       " 'AM01',\n",
       " 'AM02',\n",
       " 'AM03',\n",
       " 'AM04',\n",
       " 'AM05',\n",
       " 'AM06',\n",
       " 'AM07',\n",
       " 'CF01',\n",
       " 'CF02',\n",
       " 'CF03',\n",
       " 'CF04',\n",
       " 'CF05',\n",
       " 'DP01',\n",
       " 'DP02',\n",
       " 'DE01',\n",
       " 'DE02',\n",
       " 'DE03',\n",
       " 'DE04',\n",
       " 'DE05',\n",
       " 'DE06',\n",
       " 'DE07',\n",
       " 'DE08',\n",
       " 'DE09',\n",
       " 'DE10',\n",
       " 'DE11',\n",
       " 'DE12',\n",
       " 'DEF_VIS',\n",
       " 'DEF_AUD',\n",
       " 'DEP01_01',\n",
       " 'DEP01_02',\n",
       " 'DEP01_03',\n",
       " 'DEP01_04',\n",
       " 'DEP01_05',\n",
       " 'DEP01_06',\n",
       " 'DEP01_07',\n",
       " 'DEP01_08',\n",
       " 'DEP02',\n",
       " 'DEP03_01',\n",
       " 'DEP03_02',\n",
       " 'DEP03_03',\n",
       " 'DEP03_04',\n",
       " 'DEP03_05',\n",
       " 'DEP03_06',\n",
       " 'DEP03_07',\n",
       " 'DEP04',\n",
       " 'DEP05',\n",
       " 'DEP06',\n",
       " 'DEP_BAS',\n",
       " 'DEP_AMP',\n",
       " 'SE01',\n",
       " 'SE02',\n",
       " 'SE03',\n",
       " 'RE01',\n",
       " 'RE02',\n",
       " 'RE03',\n",
       " 'RE04',\n",
       " 'RE05',\n",
       " 'RE06',\n",
       " 'MT01',\n",
       " 'MT02',\n",
       " 'MT03',\n",
       " 'MT04',\n",
       " 'TL01',\n",
       " 'TL02',\n",
       " 'TL03',\n",
       " 'TL04',\n",
       " 'TL05',\n",
       " 'TL06_01',\n",
       " 'TL06_02',\n",
       " 'TL06_03',\n",
       " 'TL06_04',\n",
       " 'TL06_05',\n",
       " 'TL06_06',\n",
       " 'TL06_07',\n",
       " 'TL06_08',\n",
       " 'TL06_09',\n",
       " 'TL07',\n",
       " 'TL08',\n",
       " 'TL09',\n",
       " 'TL10',\n",
       " 'TL11',\n",
       " 'TL12',\n",
       " 'TL13_01',\n",
       " 'TL13_02',\n",
       " 'TL13_03',\n",
       " 'TL13_04',\n",
       " 'AY01',\n",
       " 'AY02',\n",
       " 'AY03',\n",
       " 'AY04',\n",
       " 'AY05_01',\n",
       " 'AY05_02',\n",
       " 'AY05_03',\n",
       " 'AY05_04',\n",
       " 'AY05_05',\n",
       " 'AY05_06',\n",
       " 'AY05_07',\n",
       " 'AY06_01',\n",
       " 'AY06_02',\n",
       " 'AY06_03',\n",
       " 'AY06_04',\n",
       " 'AY06_05',\n",
       " 'AY06_06',\n",
       " 'AY06_07',\n",
       " 'AY07',\n",
       " 'PAD01_01',\n",
       " 'PAD01_02',\n",
       " 'PAD01_03',\n",
       " 'PAD01_04',\n",
       " 'PAD01_05',\n",
       " 'SV01',\n",
       " 'SV02',\n",
       " 'SV03',\n",
       " 'SV04',\n",
       " 'SV05',\n",
       " 'NSV']"
      ]
     },
     "execution_count": 7,
     "metadata": {},
     "output_type": "execute_result"
    }
   ],
   "source": [
    "list(df.columns)"
   ]
  },
  {
   "cell_type": "code",
   "execution_count": 8,
   "metadata": {},
   "outputs": [],
   "source": [
    "df_am = df[['SEXO','EDAD','CH07','CH15','NIVEL_ED','ESTADO','AM01','V1','V2','V3','IX_TOT','ESTRATO_HOGAR','IPCF']]"
   ]
  },
  {
   "cell_type": "code",
   "execution_count": 9,
   "metadata": {},
   "outputs": [
    {
     "data": {
      "text/html": [
       "<div>\n",
       "<style scoped>\n",
       "    .dataframe tbody tr th:only-of-type {\n",
       "        vertical-align: middle;\n",
       "    }\n",
       "\n",
       "    .dataframe tbody tr th {\n",
       "        vertical-align: top;\n",
       "    }\n",
       "\n",
       "    .dataframe thead th {\n",
       "        text-align: right;\n",
       "    }\n",
       "</style>\n",
       "<table border=\"1\" class=\"dataframe\">\n",
       "  <thead>\n",
       "    <tr style=\"text-align: right;\">\n",
       "      <th></th>\n",
       "      <th>SEXO</th>\n",
       "      <th>EDAD</th>\n",
       "      <th>CH07</th>\n",
       "      <th>CH15</th>\n",
       "      <th>NIVEL_ED</th>\n",
       "      <th>ESTADO</th>\n",
       "      <th>AM01</th>\n",
       "      <th>V1</th>\n",
       "      <th>V2</th>\n",
       "      <th>V3</th>\n",
       "      <th>IX_TOT</th>\n",
       "      <th>ESTRATO_HOGAR</th>\n",
       "      <th>IPCF</th>\n",
       "    </tr>\n",
       "  </thead>\n",
       "  <tbody>\n",
       "    <tr>\n",
       "      <th>0</th>\n",
       "      <td>2</td>\n",
       "      <td>76</td>\n",
       "      <td>4</td>\n",
       "      <td>3</td>\n",
       "      <td>2</td>\n",
       "      <td>3</td>\n",
       "      <td>1</td>\n",
       "      <td>2</td>\n",
       "      <td>1</td>\n",
       "      <td>2</td>\n",
       "      <td>1</td>\n",
       "      <td>1</td>\n",
       "      <td>5000.0</td>\n",
       "    </tr>\n",
       "    <tr>\n",
       "      <th>1</th>\n",
       "      <td>1</td>\n",
       "      <td>60</td>\n",
       "      <td>2</td>\n",
       "      <td>4</td>\n",
       "      <td>2</td>\n",
       "      <td>1</td>\n",
       "      <td>2</td>\n",
       "      <td>1</td>\n",
       "      <td>2</td>\n",
       "      <td>2</td>\n",
       "      <td>2</td>\n",
       "      <td>3</td>\n",
       "      <td>1500.0</td>\n",
       "    </tr>\n",
       "    <tr>\n",
       "      <th>2</th>\n",
       "      <td>2</td>\n",
       "      <td>73</td>\n",
       "      <td>5</td>\n",
       "      <td>2</td>\n",
       "      <td>2</td>\n",
       "      <td>3</td>\n",
       "      <td>2</td>\n",
       "      <td>2</td>\n",
       "      <td>1</td>\n",
       "      <td>2</td>\n",
       "      <td>1</td>\n",
       "      <td>1</td>\n",
       "      <td>2000.0</td>\n",
       "    </tr>\n",
       "    <tr>\n",
       "      <th>3</th>\n",
       "      <td>2</td>\n",
       "      <td>71</td>\n",
       "      <td>4</td>\n",
       "      <td>2</td>\n",
       "      <td>2</td>\n",
       "      <td>3</td>\n",
       "      <td>2</td>\n",
       "      <td>1</td>\n",
       "      <td>1</td>\n",
       "      <td>2</td>\n",
       "      <td>3</td>\n",
       "      <td>3</td>\n",
       "      <td>3400.0</td>\n",
       "    </tr>\n",
       "    <tr>\n",
       "      <th>4</th>\n",
       "      <td>1</td>\n",
       "      <td>77</td>\n",
       "      <td>5</td>\n",
       "      <td>1</td>\n",
       "      <td>1</td>\n",
       "      <td>3</td>\n",
       "      <td>1</td>\n",
       "      <td>2</td>\n",
       "      <td>1</td>\n",
       "      <td>2</td>\n",
       "      <td>1</td>\n",
       "      <td>1</td>\n",
       "      <td>1500.0</td>\n",
       "    </tr>\n",
       "  </tbody>\n",
       "</table>\n",
       "</div>"
      ],
      "text/plain": [
       "   SEXO  EDAD  CH07  CH15  NIVEL_ED  ESTADO  AM01  V1  V2  V3  IX_TOT  \\\n",
       "0     2    76     4     3         2       3     1   2   1   2       1   \n",
       "1     1    60     2     4         2       1     2   1   2   2       2   \n",
       "2     2    73     5     2         2       3     2   2   1   2       1   \n",
       "3     2    71     4     2         2       3     2   1   1   2       3   \n",
       "4     1    77     5     1         1       3     1   2   1   2       1   \n",
       "\n",
       "   ESTRATO_HOGAR    IPCF  \n",
       "0              1  5000.0  \n",
       "1              3  1500.0  \n",
       "2              1  2000.0  \n",
       "3              3  3400.0  \n",
       "4              1  1500.0  "
      ]
     },
     "execution_count": 9,
     "metadata": {},
     "output_type": "execute_result"
    }
   ],
   "source": [
    "df_am.head()"
   ]
  },
  {
   "cell_type": "code",
   "execution_count": 10,
   "metadata": {},
   "outputs": [
    {
     "data": {
      "text/html": [
       "<div>\n",
       "<style scoped>\n",
       "    .dataframe tbody tr th:only-of-type {\n",
       "        vertical-align: middle;\n",
       "    }\n",
       "\n",
       "    .dataframe tbody tr th {\n",
       "        vertical-align: top;\n",
       "    }\n",
       "\n",
       "    .dataframe thead th {\n",
       "        text-align: right;\n",
       "    }\n",
       "</style>\n",
       "<table border=\"1\" class=\"dataframe\">\n",
       "  <thead>\n",
       "    <tr style=\"text-align: right;\">\n",
       "      <th></th>\n",
       "      <th>SEXO</th>\n",
       "      <th>EDAD</th>\n",
       "      <th>CH07</th>\n",
       "      <th>CH15</th>\n",
       "      <th>NIVEL_ED</th>\n",
       "      <th>ESTADO</th>\n",
       "      <th>AM01</th>\n",
       "      <th>V1</th>\n",
       "      <th>V2</th>\n",
       "      <th>V3</th>\n",
       "      <th>IX_TOT</th>\n",
       "      <th>ESTRATO_HOGAR</th>\n",
       "      <th>IPCF</th>\n",
       "    </tr>\n",
       "  </thead>\n",
       "  <tbody>\n",
       "    <tr>\n",
       "      <th>count</th>\n",
       "      <td>4654.000000</td>\n",
       "      <td>4654.000000</td>\n",
       "      <td>4654.000000</td>\n",
       "      <td>4654.000000</td>\n",
       "      <td>4654.000000</td>\n",
       "      <td>4654.000000</td>\n",
       "      <td>4654.000000</td>\n",
       "      <td>4654.000000</td>\n",
       "      <td>4654.000000</td>\n",
       "      <td>4654.000000</td>\n",
       "      <td>4654.000000</td>\n",
       "      <td>4654.000000</td>\n",
       "      <td>4654.000000</td>\n",
       "    </tr>\n",
       "    <tr>\n",
       "      <th>mean</th>\n",
       "      <td>1.573700</td>\n",
       "      <td>70.463043</td>\n",
       "      <td>2.828105</td>\n",
       "      <td>1.883111</td>\n",
       "      <td>2.738934</td>\n",
       "      <td>2.564676</td>\n",
       "      <td>1.425870</td>\n",
       "      <td>1.437688</td>\n",
       "      <td>1.129136</td>\n",
       "      <td>1.997636</td>\n",
       "      <td>2.840997</td>\n",
       "      <td>2.340782</td>\n",
       "      <td>2632.759794</td>\n",
       "    </tr>\n",
       "    <tr>\n",
       "      <th>std</th>\n",
       "      <td>0.494592</td>\n",
       "      <td>7.997113</td>\n",
       "      <td>1.187774</td>\n",
       "      <td>1.015717</td>\n",
       "      <td>1.805727</td>\n",
       "      <td>0.822794</td>\n",
       "      <td>0.494527</td>\n",
       "      <td>0.496155</td>\n",
       "      <td>0.335387</td>\n",
       "      <td>0.048564</td>\n",
       "      <td>1.835272</td>\n",
       "      <td>0.778709</td>\n",
       "      <td>2711.842748</td>\n",
       "    </tr>\n",
       "    <tr>\n",
       "      <th>min</th>\n",
       "      <td>1.000000</td>\n",
       "      <td>60.000000</td>\n",
       "      <td>1.000000</td>\n",
       "      <td>1.000000</td>\n",
       "      <td>1.000000</td>\n",
       "      <td>0.000000</td>\n",
       "      <td>1.000000</td>\n",
       "      <td>1.000000</td>\n",
       "      <td>1.000000</td>\n",
       "      <td>1.000000</td>\n",
       "      <td>1.000000</td>\n",
       "      <td>1.000000</td>\n",
       "      <td>0.000000</td>\n",
       "    </tr>\n",
       "    <tr>\n",
       "      <th>25%</th>\n",
       "      <td>1.000000</td>\n",
       "      <td>64.000000</td>\n",
       "      <td>2.000000</td>\n",
       "      <td>1.000000</td>\n",
       "      <td>1.000000</td>\n",
       "      <td>3.000000</td>\n",
       "      <td>1.000000</td>\n",
       "      <td>1.000000</td>\n",
       "      <td>1.000000</td>\n",
       "      <td>2.000000</td>\n",
       "      <td>2.000000</td>\n",
       "      <td>2.000000</td>\n",
       "      <td>1333.333374</td>\n",
       "    </tr>\n",
       "    <tr>\n",
       "      <th>50%</th>\n",
       "      <td>2.000000</td>\n",
       "      <td>69.000000</td>\n",
       "      <td>2.000000</td>\n",
       "      <td>2.000000</td>\n",
       "      <td>2.000000</td>\n",
       "      <td>3.000000</td>\n",
       "      <td>1.000000</td>\n",
       "      <td>1.000000</td>\n",
       "      <td>1.000000</td>\n",
       "      <td>2.000000</td>\n",
       "      <td>2.000000</td>\n",
       "      <td>3.000000</td>\n",
       "      <td>1955.000000</td>\n",
       "    </tr>\n",
       "    <tr>\n",
       "      <th>75%</th>\n",
       "      <td>2.000000</td>\n",
       "      <td>76.000000</td>\n",
       "      <td>4.000000</td>\n",
       "      <td>3.000000</td>\n",
       "      <td>4.000000</td>\n",
       "      <td>3.000000</td>\n",
       "      <td>2.000000</td>\n",
       "      <td>2.000000</td>\n",
       "      <td>1.000000</td>\n",
       "      <td>2.000000</td>\n",
       "      <td>3.000000</td>\n",
       "      <td>3.000000</td>\n",
       "      <td>3078.750000</td>\n",
       "    </tr>\n",
       "    <tr>\n",
       "      <th>max</th>\n",
       "      <td>2.000000</td>\n",
       "      <td>98.000000</td>\n",
       "      <td>5.000000</td>\n",
       "      <td>9.000000</td>\n",
       "      <td>7.000000</td>\n",
       "      <td>3.000000</td>\n",
       "      <td>2.000000</td>\n",
       "      <td>2.000000</td>\n",
       "      <td>2.000000</td>\n",
       "      <td>2.000000</td>\n",
       "      <td>15.000000</td>\n",
       "      <td>3.000000</td>\n",
       "      <td>70000.000000</td>\n",
       "    </tr>\n",
       "  </tbody>\n",
       "</table>\n",
       "</div>"
      ],
      "text/plain": [
       "              SEXO         EDAD         CH07         CH15     NIVEL_ED  \\\n",
       "count  4654.000000  4654.000000  4654.000000  4654.000000  4654.000000   \n",
       "mean      1.573700    70.463043     2.828105     1.883111     2.738934   \n",
       "std       0.494592     7.997113     1.187774     1.015717     1.805727   \n",
       "min       1.000000    60.000000     1.000000     1.000000     1.000000   \n",
       "25%       1.000000    64.000000     2.000000     1.000000     1.000000   \n",
       "50%       2.000000    69.000000     2.000000     2.000000     2.000000   \n",
       "75%       2.000000    76.000000     4.000000     3.000000     4.000000   \n",
       "max       2.000000    98.000000     5.000000     9.000000     7.000000   \n",
       "\n",
       "            ESTADO         AM01           V1           V2           V3  \\\n",
       "count  4654.000000  4654.000000  4654.000000  4654.000000  4654.000000   \n",
       "mean      2.564676     1.425870     1.437688     1.129136     1.997636   \n",
       "std       0.822794     0.494527     0.496155     0.335387     0.048564   \n",
       "min       0.000000     1.000000     1.000000     1.000000     1.000000   \n",
       "25%       3.000000     1.000000     1.000000     1.000000     2.000000   \n",
       "50%       3.000000     1.000000     1.000000     1.000000     2.000000   \n",
       "75%       3.000000     2.000000     2.000000     1.000000     2.000000   \n",
       "max       3.000000     2.000000     2.000000     2.000000     2.000000   \n",
       "\n",
       "            IX_TOT  ESTRATO_HOGAR          IPCF  \n",
       "count  4654.000000    4654.000000   4654.000000  \n",
       "mean      2.840997       2.340782   2632.759794  \n",
       "std       1.835272       0.778709   2711.842748  \n",
       "min       1.000000       1.000000      0.000000  \n",
       "25%       2.000000       2.000000   1333.333374  \n",
       "50%       2.000000       3.000000   1955.000000  \n",
       "75%       3.000000       3.000000   3078.750000  \n",
       "max      15.000000       3.000000  70000.000000  "
      ]
     },
     "execution_count": 10,
     "metadata": {},
     "output_type": "execute_result"
    }
   ],
   "source": [
    "df_am.describe()"
   ]
  },
  {
   "cell_type": "code",
   "execution_count": 11,
   "metadata": {},
   "outputs": [
    {
     "data": {
      "text/plain": [
       "<matplotlib.axes._subplots.AxesSubplot at 0x103714748>"
      ]
     },
     "execution_count": 11,
     "metadata": {},
     "output_type": "execute_result"
    },
    {
     "data": {
      "image/png": "[encoded data removed]",
      "text/plain": [
       "<Figure size 432x288 with 1 Axes>"
      ]
     },
     "metadata": {
      "needs_background": "light"
     },
     "output_type": "display_data"
    }
   ],
   "source": [
    "sns.distplot(df_am['IPCF'])"
   ]
  },
  {
   "cell_type": "code",
   "execution_count": 145,
   "metadata": {},
   "outputs": [
    {
     "name": "stdout",
     "output_type": "stream",
     "text": [
      "1745.4166259765625\n"
     ]
    }
   ],
   "source": [
    "Q1 = df_am['IPCF'].quantile(0.25)\n",
    "Q3 = df_am['IPCF'].quantile(0.75)\n",
    "IQR = Q3 - Q1\n",
    "print(IQR)"
   ]
  },
  {
   "cell_type": "code",
   "execution_count": 148,
   "metadata": {},
   "outputs": [
    {
     "data": {
      "text/plain": [
       "337"
      ]
     },
     "execution_count": 148,
     "metadata": {},
     "output_type": "execute_result"
    }
   ],
   "source": [
    "outliers_df = (df_am['IPCF']< (Q1 - 1.5 * IQR)) |(df_am['IPCF']> (Q3 + 1.5 * IQR))\n",
    "outliers_df.sum()"
   ]
  },
  {
   "cell_type": "code",
   "execution_count": 149,
   "metadata": {},
   "outputs": [
    {
     "data": {
      "text/plain": [
       "<matplotlib.axes._subplots.AxesSubplot at 0x1f138cc0320>"
      ]
     },
     "execution_count": 149,
     "metadata": {},
     "output_type": "execute_result"
    },
    {
     "data": {
      "image/png": "[encoded data removed]",
      "text/plain": [
       "<Figure size 432x288 with 1 Axes>"
      ]
     },
     "metadata": {
      "needs_background": "light"
     },
     "output_type": "display_data"
    }
   ],
   "source": [
    "sns.boxplot(x=\"IPCF\", data=df_am,  palette='viridis')"
   ]
  },
  {
   "cell_type": "code",
   "execution_count": 151,
   "metadata": {},
   "outputs": [
    {
     "data": {
      "text/plain": [
       "(4317, 13)"
      ]
     },
     "execution_count": 151,
     "metadata": {},
     "output_type": "execute_result"
    }
   ],
   "source": [
    "df_am_out = df_am[~((df_am < (Q1 - 1.5 * IQR)) |(df_am> (Q3 + 1.5 * IQR))).any(axis=1)]\n",
    "df_am_out.shape"
   ]
  },
  {
   "cell_type": "code",
   "execution_count": 152,
   "metadata": {},
   "outputs": [
    {
     "data": {
      "text/plain": [
       "<matplotlib.axes._subplots.AxesSubplot at 0x1f13ba4f748>"
      ]
     },
     "execution_count": 152,
     "metadata": {},
     "output_type": "execute_result"
    },
    {
     "data": {
      "image/png": "[encoded data removed]",
      "text/plain": [
       "<Figure size 432x288 with 1 Axes>"
      ]
     },
     "metadata": {
      "needs_background": "light"
     },
     "output_type": "display_data"
    }
   ],
   "source": [
    "sns.boxplot(x=\"IPCF\", data=df_am_out,  palette='viridis')"
   ]
  },
  {
   "cell_type": "code",
   "execution_count": 153,
   "metadata": {},
   "outputs": [
    {
     "name": "stderr",
     "output_type": "stream",
     "text": [
      "C:\\ProgramData\\Anaconda3\\lib\\site-packages\\scipy\\stats\\stats.py:1713: FutureWarning: Using a non-tuple sequence for multidimensional indexing is deprecated; use `arr[tuple(seq)]` instead of `arr[seq]`. In the future this will be interpreted as an array index, `arr[np.array(seq)]`, which will result either in an error or a different result.\n",
      "  return np.add.reduce(sorted[indexer] * weights, axis=axis) / sumval\n"
     ]
    },
    {
     "data": {
      "text/plain": [
       "<matplotlib.axes._subplots.AxesSubplot at 0x1f13bb28e10>"
      ]
     },
     "execution_count": 153,
     "metadata": {},
     "output_type": "execute_result"
    },
    {
     "data": {
      "image/png": "[encoded data removed]",
      "text/plain": [
       "<Figure size 432x288 with 1 Axes>"
      ]
     },
     "metadata": {
      "needs_background": "light"
     },
     "output_type": "display_data"
    }
   ],
   "source": [
    "sns.distplot(df_am_out['IPCF'])"
   ]
  },
  {
   "cell_type": "markdown",
   "metadata": {},
   "source": [
    "#### Filtramos por el sexo Varon de forma de tal de ver el comportamiento para varones y compararlo con las mujeres"
   ]
  },
  {
   "cell_type": "code",
   "execution_count": 154,
   "metadata": {},
   "outputs": [],
   "source": [
    "df_amv = df_am_out[df_am_out['SEXO']==1]\n",
    "df_amm = df_am_out[df_am_out['SEXO']==2]"
   ]
  },
  {
   "cell_type": "markdown",
   "metadata": {},
   "source": [
    "#### Hacemos un grafico de distribucion de la variable IPCF (Ingreso per capita familiar) para los varones"
   ]
  },
  {
   "cell_type": "code",
   "execution_count": 155,
   "metadata": {},
   "outputs": [
    {
     "data": {
      "text/plain": [
       "<matplotlib.axes._subplots.AxesSubplot at 0x1f13bbc9a20>"
      ]
     },
     "execution_count": 155,
     "metadata": {},
     "output_type": "execute_result"
    },
    {
     "data": {
      "image/png": "[encoded data removed]",
      "text/plain": [
       "<Figure size 432x288 with 1 Axes>"
      ]
     },
     "metadata": {
      "needs_background": "light"
     },
     "output_type": "display_data"
    }
   ],
   "source": [
    "sns.distplot(df_amv['IPCF'])"
   ]
  },
  {
   "cell_type": "markdown",
   "metadata": {},
   "source": [
    "#### Hacemos un grafico de distribucion para IPCF para las mujeres"
   ]
  },
  {
   "cell_type": "code",
   "execution_count": 156,
   "metadata": {},
   "outputs": [
    {
     "data": {
      "text/plain": [
       "<matplotlib.axes._subplots.AxesSubplot at 0x1f13bc5b898>"
      ]
     },
     "execution_count": 156,
     "metadata": {},
     "output_type": "execute_result"
    },
    {
     "data": {
      "image/png": "[encoded data removed]",
      "text/plain": [
       "<Figure size 432x288 with 1 Axes>"
      ]
     },
     "metadata": {
      "needs_background": "light"
     },
     "output_type": "display_data"
    }
   ],
   "source": [
    "sns.distplot(df_amm['IPCF'])"
   ]
  },
  {
   "cell_type": "markdown",
   "metadata": {},
   "source": [
    "### Analizamos los Outliers"
   ]
  },
  {
   "cell_type": "markdown",
   "metadata": {},
   "source": [
    "##### Analisis de Outliers para df_amv (filtrado por varones)"
   ]
  },
  {
   "cell_type": "code",
   "execution_count": 129,
   "metadata": {},
   "outputs": [
    {
     "data": {
      "text/plain": [
       "<matplotlib.axes._subplots.AxesSubplot at 0x1f139cc7630>"
      ]
     },
     "execution_count": 129,
     "metadata": {},
     "output_type": "execute_result"
    },
    {
     "data": {
      "image/png": "[encoded data removed]",
      "text/plain": [
       "<Figure size 432x288 with 1 Axes>"
      ]
     },
     "metadata": {
      "needs_background": "light"
     },
     "output_type": "display_data"
    }
   ],
   "source": [
    "sns.boxplot(x=\"IPCF\", data=df_amv,  palette='viridis')"
   ]
  },
  {
   "cell_type": "code",
   "execution_count": 35,
   "metadata": {},
   "outputs": [
    {
     "data": {
      "text/plain": [
       "(1984, 13)"
      ]
     },
     "execution_count": 35,
     "metadata": {},
     "output_type": "execute_result"
    }
   ],
   "source": [
    "df_amv.shape"
   ]
  },
  {
   "cell_type": "code",
   "execution_count": 37,
   "metadata": {},
   "outputs": [
    {
     "data": {
      "text/plain": [
       "SEXO             1778\n",
       "EDAD             1778\n",
       "CH07             1778\n",
       "CH15             1778\n",
       "NIVEL_ED         1778\n",
       "ESTADO           1778\n",
       "AM01             1778\n",
       "V1               1778\n",
       "V2               1778\n",
       "V3               1778\n",
       "IX_TOT           1778\n",
       "ESTRATO_HOGAR    1778\n",
       "IPCF             1778\n",
       "dtype: int64"
      ]
     },
     "execution_count": 37,
     "metadata": {},
     "output_type": "execute_result"
    }
   ],
   "source": [
    "df_amv[df_amv['IPCF']<5000].count()"
   ]
  },
  {
   "cell_type": "code",
   "execution_count": 128,
   "metadata": {},
   "outputs": [
    {
     "data": {
      "text/plain": [
       "<matplotlib.axes._subplots.AxesSubplot at 0x1f139c6ab38>"
      ]
     },
     "execution_count": 128,
     "metadata": {},
     "output_type": "execute_result"
    },
    {
     "data": {
      "image/png": "[encoded data removed]",
      "text/plain": [
       "<Figure size 432x288 with 1 Axes>"
      ]
     },
     "metadata": {
      "needs_background": "light"
     },
     "output_type": "display_data"
    }
   ],
   "source": [
    "sns.boxplot(x=\"IPCF\", data=df_amv[df_amv['IPCF']<5000],  palette='viridis')"
   ]
  },
  {
   "cell_type": "code",
   "execution_count": 55,
   "metadata": {},
   "outputs": [
    {
     "data": {
      "text/html": [
       "<div>\n",
       "<style scoped>\n",
       "    .dataframe tbody tr th:only-of-type {\n",
       "        vertical-align: middle;\n",
       "    }\n",
       "\n",
       "    .dataframe tbody tr th {\n",
       "        vertical-align: top;\n",
       "    }\n",
       "\n",
       "    .dataframe thead th {\n",
       "        text-align: right;\n",
       "    }\n",
       "</style>\n",
       "<table border=\"1\" class=\"dataframe\">\n",
       "  <thead>\n",
       "    <tr style=\"text-align: right;\">\n",
       "      <th></th>\n",
       "      <th>SEXO</th>\n",
       "      <th>EDAD</th>\n",
       "      <th>CH07</th>\n",
       "      <th>CH15</th>\n",
       "      <th>NIVEL_ED</th>\n",
       "      <th>ESTADO</th>\n",
       "      <th>AM01</th>\n",
       "      <th>V1</th>\n",
       "      <th>V2</th>\n",
       "      <th>V3</th>\n",
       "      <th>IX_TOT</th>\n",
       "      <th>ESTRATO_HOGAR</th>\n",
       "      <th>IPCF</th>\n",
       "    </tr>\n",
       "  </thead>\n",
       "  <tbody>\n",
       "    <tr>\n",
       "      <th>1</th>\n",
       "      <td>1</td>\n",
       "      <td>60</td>\n",
       "      <td>2</td>\n",
       "      <td>4</td>\n",
       "      <td>2</td>\n",
       "      <td>1</td>\n",
       "      <td>2</td>\n",
       "      <td>1</td>\n",
       "      <td>2</td>\n",
       "      <td>2</td>\n",
       "      <td>2</td>\n",
       "      <td>3</td>\n",
       "      <td>1500.000000</td>\n",
       "    </tr>\n",
       "    <tr>\n",
       "      <th>4</th>\n",
       "      <td>1</td>\n",
       "      <td>77</td>\n",
       "      <td>5</td>\n",
       "      <td>1</td>\n",
       "      <td>1</td>\n",
       "      <td>3</td>\n",
       "      <td>1</td>\n",
       "      <td>2</td>\n",
       "      <td>1</td>\n",
       "      <td>2</td>\n",
       "      <td>1</td>\n",
       "      <td>1</td>\n",
       "      <td>1500.000000</td>\n",
       "    </tr>\n",
       "    <tr>\n",
       "      <th>5</th>\n",
       "      <td>1</td>\n",
       "      <td>71</td>\n",
       "      <td>2</td>\n",
       "      <td>1</td>\n",
       "      <td>2</td>\n",
       "      <td>3</td>\n",
       "      <td>1</td>\n",
       "      <td>1</td>\n",
       "      <td>1</td>\n",
       "      <td>2</td>\n",
       "      <td>3</td>\n",
       "      <td>3</td>\n",
       "      <td>3833.333252</td>\n",
       "    </tr>\n",
       "    <tr>\n",
       "      <th>7</th>\n",
       "      <td>1</td>\n",
       "      <td>66</td>\n",
       "      <td>4</td>\n",
       "      <td>2</td>\n",
       "      <td>7</td>\n",
       "      <td>3</td>\n",
       "      <td>1</td>\n",
       "      <td>2</td>\n",
       "      <td>1</td>\n",
       "      <td>2</td>\n",
       "      <td>2</td>\n",
       "      <td>3</td>\n",
       "      <td>2500.000000</td>\n",
       "    </tr>\n",
       "    <tr>\n",
       "      <th>9</th>\n",
       "      <td>1</td>\n",
       "      <td>67</td>\n",
       "      <td>2</td>\n",
       "      <td>4</td>\n",
       "      <td>7</td>\n",
       "      <td>1</td>\n",
       "      <td>1</td>\n",
       "      <td>1</td>\n",
       "      <td>2</td>\n",
       "      <td>2</td>\n",
       "      <td>2</td>\n",
       "      <td>2</td>\n",
       "      <td>1000.000000</td>\n",
       "    </tr>\n",
       "  </tbody>\n",
       "</table>\n",
       "</div>"
      ],
      "text/plain": [
       "   SEXO  EDAD  CH07  CH15  NIVEL_ED  ESTADO  AM01  V1  V2  V3  IX_TOT  \\\n",
       "1     1    60     2     4         2       1     2   1   2   2       2   \n",
       "4     1    77     5     1         1       3     1   2   1   2       1   \n",
       "5     1    71     2     1         2       3     1   1   1   2       3   \n",
       "7     1    66     4     2         7       3     1   2   1   2       2   \n",
       "9     1    67     2     4         7       1     1   1   2   2       2   \n",
       "\n",
       "   ESTRATO_HOGAR         IPCF  \n",
       "1              3  1500.000000  \n",
       "4              1  1500.000000  \n",
       "5              3  3833.333252  \n",
       "7              3  2500.000000  \n",
       "9              2  1000.000000  "
      ]
     },
     "execution_count": 55,
     "metadata": {},
     "output_type": "execute_result"
    }
   ],
   "source": [
    "df_amv_filtered = df_amv[df_amv['IPCF']<5000]\n",
    "df_amv_filtered.head()"
   ]
  },
  {
   "cell_type": "code",
   "execution_count": 100,
   "metadata": {},
   "outputs": [
    {
     "data": {
      "text/plain": [
       "<matplotlib.axes._subplots.AxesSubplot at 0x1f139572320>"
      ]
     },
     "execution_count": 100,
     "metadata": {},
     "output_type": "execute_result"
    },
    {
     "data": {
      "image/png": "[encoded data removed]",
      "text/plain": [
       "<Figure size 432x288 with 1 Axes>"
      ]
     },
     "metadata": {
      "needs_background": "light"
     },
     "output_type": "display_data"
    }
   ],
   "source": [
    "sns.distplot(df_amv_filtered['IPCF'])"
   ]
  },
  {
   "cell_type": "markdown",
   "metadata": {},
   "source": [
    "#### Analisis de Outliers para df_amm (filtrado por mujeres)"
   ]
  },
  {
   "cell_type": "code",
   "execution_count": 127,
   "metadata": {},
   "outputs": [
    {
     "data": {
      "text/plain": [
       "<matplotlib.axes._subplots.AxesSubplot at 0x1f139c15438>"
      ]
     },
     "execution_count": 127,
     "metadata": {},
     "output_type": "execute_result"
    },
    {
     "data": {
      "image/png": "[encoded data removed]",
      "text/plain": [
       "<Figure size 432x288 with 1 Axes>"
      ]
     },
     "metadata": {
      "needs_background": "light"
     },
     "output_type": "display_data"
    }
   ],
   "source": [
    "sns.boxplot(x=\"IPCF\", data = df_amm, palette='viridis')"
   ]
  },
  {
   "cell_type": "code",
   "execution_count": 52,
   "metadata": {},
   "outputs": [
    {
     "data": {
      "text/plain": [
       "(2670, 13)"
      ]
     },
     "execution_count": 52,
     "metadata": {},
     "output_type": "execute_result"
    }
   ],
   "source": [
    "df_amm.shape"
   ]
  },
  {
   "cell_type": "code",
   "execution_count": 51,
   "metadata": {},
   "outputs": [
    {
     "data": {
      "text/plain": [
       "SEXO             2407\n",
       "EDAD             2407\n",
       "CH07             2407\n",
       "CH15             2407\n",
       "NIVEL_ED         2407\n",
       "ESTADO           2407\n",
       "AM01             2407\n",
       "V1               2407\n",
       "V2               2407\n",
       "V3               2407\n",
       "IX_TOT           2407\n",
       "ESTRATO_HOGAR    2407\n",
       "IPCF             2407\n",
       "dtype: int64"
      ]
     },
     "execution_count": 51,
     "metadata": {},
     "output_type": "execute_result"
    }
   ],
   "source": [
    "df_amm[df_amm['IPCF']<5000].count()"
   ]
  },
  {
   "cell_type": "code",
   "execution_count": 126,
   "metadata": {},
   "outputs": [
    {
     "data": {
      "text/plain": [
       "<matplotlib.axes._subplots.AxesSubplot at 0x1f139bc2978>"
      ]
     },
     "execution_count": 126,
     "metadata": {},
     "output_type": "execute_result"
    },
    {
     "data": {
      "image/png": "[encoded data removed]",
      "text/plain": [
       "<Figure size 432x288 with 1 Axes>"
      ]
     },
     "metadata": {
      "needs_background": "light"
     },
     "output_type": "display_data"
    }
   ],
   "source": [
    "sns.boxplot(x=\"IPCF\", data = df_amm[df_amm['IPCF']<5000], palette='viridis')"
   ]
  },
  {
   "cell_type": "code",
   "execution_count": 61,
   "metadata": {},
   "outputs": [
    {
     "data": {
      "text/html": [
       "<div>\n",
       "<style scoped>\n",
       "    .dataframe tbody tr th:only-of-type {\n",
       "        vertical-align: middle;\n",
       "    }\n",
       "\n",
       "    .dataframe tbody tr th {\n",
       "        vertical-align: top;\n",
       "    }\n",
       "\n",
       "    .dataframe thead th {\n",
       "        text-align: right;\n",
       "    }\n",
       "</style>\n",
       "<table border=\"1\" class=\"dataframe\">\n",
       "  <thead>\n",
       "    <tr style=\"text-align: right;\">\n",
       "      <th></th>\n",
       "      <th>SEXO</th>\n",
       "      <th>EDAD</th>\n",
       "      <th>CH07</th>\n",
       "      <th>CH15</th>\n",
       "      <th>NIVEL_ED</th>\n",
       "      <th>ESTADO</th>\n",
       "      <th>AM01</th>\n",
       "      <th>V1</th>\n",
       "      <th>V2</th>\n",
       "      <th>V3</th>\n",
       "      <th>IX_TOT</th>\n",
       "      <th>ESTRATO_HOGAR</th>\n",
       "      <th>IPCF</th>\n",
       "    </tr>\n",
       "  </thead>\n",
       "  <tbody>\n",
       "    <tr>\n",
       "      <th>2</th>\n",
       "      <td>2</td>\n",
       "      <td>73</td>\n",
       "      <td>5</td>\n",
       "      <td>2</td>\n",
       "      <td>2</td>\n",
       "      <td>3</td>\n",
       "      <td>2</td>\n",
       "      <td>2</td>\n",
       "      <td>1</td>\n",
       "      <td>2</td>\n",
       "      <td>1</td>\n",
       "      <td>1</td>\n",
       "      <td>2000.000000</td>\n",
       "    </tr>\n",
       "    <tr>\n",
       "      <th>3</th>\n",
       "      <td>2</td>\n",
       "      <td>71</td>\n",
       "      <td>4</td>\n",
       "      <td>2</td>\n",
       "      <td>2</td>\n",
       "      <td>3</td>\n",
       "      <td>2</td>\n",
       "      <td>1</td>\n",
       "      <td>1</td>\n",
       "      <td>2</td>\n",
       "      <td>3</td>\n",
       "      <td>3</td>\n",
       "      <td>3400.000000</td>\n",
       "    </tr>\n",
       "    <tr>\n",
       "      <th>6</th>\n",
       "      <td>2</td>\n",
       "      <td>69</td>\n",
       "      <td>2</td>\n",
       "      <td>1</td>\n",
       "      <td>2</td>\n",
       "      <td>1</td>\n",
       "      <td>2</td>\n",
       "      <td>1</td>\n",
       "      <td>1</td>\n",
       "      <td>2</td>\n",
       "      <td>3</td>\n",
       "      <td>3</td>\n",
       "      <td>3833.333252</td>\n",
       "    </tr>\n",
       "    <tr>\n",
       "      <th>8</th>\n",
       "      <td>2</td>\n",
       "      <td>85</td>\n",
       "      <td>4</td>\n",
       "      <td>3</td>\n",
       "      <td>7</td>\n",
       "      <td>3</td>\n",
       "      <td>2</td>\n",
       "      <td>1</td>\n",
       "      <td>1</td>\n",
       "      <td>2</td>\n",
       "      <td>4</td>\n",
       "      <td>3</td>\n",
       "      <td>2065.000000</td>\n",
       "    </tr>\n",
       "    <tr>\n",
       "      <th>11</th>\n",
       "      <td>2</td>\n",
       "      <td>60</td>\n",
       "      <td>2</td>\n",
       "      <td>3</td>\n",
       "      <td>1</td>\n",
       "      <td>3</td>\n",
       "      <td>2</td>\n",
       "      <td>1</td>\n",
       "      <td>2</td>\n",
       "      <td>2</td>\n",
       "      <td>2</td>\n",
       "      <td>2</td>\n",
       "      <td>1000.000000</td>\n",
       "    </tr>\n",
       "  </tbody>\n",
       "</table>\n",
       "</div>"
      ],
      "text/plain": [
       "    SEXO  EDAD  CH07  CH15  NIVEL_ED  ESTADO  AM01  V1  V2  V3  IX_TOT  \\\n",
       "2      2    73     5     2         2       3     2   2   1   2       1   \n",
       "3      2    71     4     2         2       3     2   1   1   2       3   \n",
       "6      2    69     2     1         2       1     2   1   1   2       3   \n",
       "8      2    85     4     3         7       3     2   1   1   2       4   \n",
       "11     2    60     2     3         1       3     2   1   2   2       2   \n",
       "\n",
       "    ESTRATO_HOGAR         IPCF  \n",
       "2               1  2000.000000  \n",
       "3               3  3400.000000  \n",
       "6               3  3833.333252  \n",
       "8               3  2065.000000  \n",
       "11              2  1000.000000  "
      ]
     },
     "execution_count": 61,
     "metadata": {},
     "output_type": "execute_result"
    }
   ],
   "source": [
    "df_amm_filtered = df_amm[df_amm['IPCF']<5000]\n",
    "df_amm_filtered.head()"
   ]
  },
  {
   "cell_type": "code",
   "execution_count": 104,
   "metadata": {},
   "outputs": [
    {
     "data": {
      "text/plain": [
       "<matplotlib.axes._subplots.AxesSubplot at 0x1f13969d940>"
      ]
     },
     "execution_count": 104,
     "metadata": {},
     "output_type": "execute_result"
    },
    {
     "data": {
      "image/png": "[encoded data removed]",
      "text/plain": [
       "<Figure size 432x288 with 1 Axes>"
      ]
     },
     "metadata": {
      "needs_background": "light"
     },
     "output_type": "display_data"
    }
   ],
   "source": [
    "sns.distplot(df_amm_filtered['IPCF'])"
   ]
  },
  {
   "cell_type": "markdown",
   "metadata": {},
   "source": [
    "#### Analisis de Outliers de Edad"
   ]
  },
  {
   "cell_type": "code",
   "execution_count": 125,
   "metadata": {},
   "outputs": [
    {
     "data": {
      "text/plain": [
       "<matplotlib.axes._subplots.AxesSubplot at 0x1f139b67ef0>"
      ]
     },
     "execution_count": 125,
     "metadata": {},
     "output_type": "execute_result"
    },
    {
     "data": {
      "image/png": "[encoded data removed]",
      "text/plain": [
       "<Figure size 432x288 with 1 Axes>"
      ]
     },
     "metadata": {
      "needs_background": "light"
     },
     "output_type": "display_data"
    }
   ],
   "source": [
    "sns.boxplot(x='EDAD', data = df_amv_filtered, palette='viridis')"
   ]
  },
  {
   "cell_type": "code",
   "execution_count": 64,
   "metadata": {},
   "outputs": [
    {
     "data": {
      "text/plain": [
       "95"
      ]
     },
     "execution_count": 64,
     "metadata": {},
     "output_type": "execute_result"
    }
   ],
   "source": [
    "df_amv_filtered['EDAD'].max()"
   ]
  },
  {
   "cell_type": "code",
   "execution_count": 67,
   "metadata": {},
   "outputs": [
    {
     "data": {
      "text/plain": [
       "69.97019122609674"
      ]
     },
     "execution_count": 67,
     "metadata": {},
     "output_type": "execute_result"
    }
   ],
   "source": [
    "df_amv_filtered['EDAD'].mean()"
   ]
  },
  {
   "cell_type": "code",
   "execution_count": 107,
   "metadata": {},
   "outputs": [
    {
     "data": {
      "text/plain": [
       "<matplotlib.axes._subplots.AxesSubplot at 0x1f1390b00f0>"
      ]
     },
     "execution_count": 107,
     "metadata": {},
     "output_type": "execute_result"
    },
    {
     "data": {
      "image/png": "[encoded data removed]",
      "text/plain": [
       "<Figure size 432x288 with 1 Axes>"
      ]
     },
     "metadata": {
      "needs_background": "light"
     },
     "output_type": "display_data"
    }
   ],
   "source": [
    "sns.distplot(df_amv_filtered['EDAD'])"
   ]
  },
  {
   "cell_type": "code",
   "execution_count": 124,
   "metadata": {},
   "outputs": [
    {
     "data": {
      "text/plain": [
       "<matplotlib.axes._subplots.AxesSubplot at 0x1f139b073c8>"
      ]
     },
     "execution_count": 124,
     "metadata": {},
     "output_type": "execute_result"
    },
    {
     "data": {
      "image/png": "[encoded data removed]",
      "text/plain": [
       "<Figure size 432x288 with 1 Axes>"
      ]
     },
     "metadata": {
      "needs_background": "light"
     },
     "output_type": "display_data"
    }
   ],
   "source": [
    "sns.boxplot(x = 'EDAD', data = df_amm_filtered, palette='viridis')"
   ]
  },
  {
   "cell_type": "code",
   "execution_count": 66,
   "metadata": {},
   "outputs": [
    {
     "data": {
      "text/plain": [
       "98"
      ]
     },
     "execution_count": 66,
     "metadata": {},
     "output_type": "execute_result"
    }
   ],
   "source": [
    "df_amm_filtered['EDAD'].max()"
   ]
  },
  {
   "cell_type": "code",
   "execution_count": 68,
   "metadata": {},
   "outputs": [
    {
     "data": {
      "text/plain": [
       "70.97174906522642"
      ]
     },
     "execution_count": 68,
     "metadata": {},
     "output_type": "execute_result"
    }
   ],
   "source": [
    "df_amm_filtered['EDAD'].mean()"
   ]
  },
  {
   "cell_type": "code",
   "execution_count": 109,
   "metadata": {},
   "outputs": [
    {
     "data": {
      "text/plain": [
       "<matplotlib.axes._subplots.AxesSubplot at 0x1f1368e1d68>"
      ]
     },
     "execution_count": 109,
     "metadata": {},
     "output_type": "execute_result"
    },
    {
     "data": {
      "image/png": "[encoded data removed]",
      "text/plain": [
       "<Figure size 432x288 with 1 Axes>"
      ]
     },
     "metadata": {
      "needs_background": "light"
     },
     "output_type": "display_data"
    }
   ],
   "source": [
    "sns.distplot(df_amm_filtered['EDAD'])"
   ]
  },
  {
   "cell_type": "markdown",
   "metadata": {},
   "source": [
    "#### Analisis de Outliers de Nivel Educativo\n",
    "##### Valores que toma la variable nivel educativo son: \n",
    "##### * 1 = Primaria incompleta\n",
    "##### * 2 = Primaria completa\n",
    "##### * 3 = Secundaria incompleta\n",
    "##### * 4 = Secundaria completa\n",
    "##### * 5 = Superior Universitaria incompleta\n",
    "##### * 6 = Superior Universitaria completa\n",
    "##### * 7 = Sin Instruccion\n",
    "##### * 9 = Ns./Nr."
   ]
  },
  {
   "cell_type": "markdown",
   "metadata": {},
   "source": [
    "#### Describe Nivel Educativo varones"
   ]
  },
  {
   "cell_type": "code",
   "execution_count": 111,
   "metadata": {},
   "outputs": [
    {
     "data": {
      "text/plain": [
       "count    1778.000000\n",
       "mean        2.605174\n",
       "std         1.721922\n",
       "min         1.000000\n",
       "25%         1.000000\n",
       "50%         2.000000\n",
       "75%         3.000000\n",
       "max         7.000000\n",
       "Name: NIVEL_ED, dtype: float64"
      ]
     },
     "execution_count": 111,
     "metadata": {},
     "output_type": "execute_result"
    }
   ],
   "source": [
    "df_amv_filtered['NIVEL_ED'].describe()"
   ]
  },
  {
   "cell_type": "code",
   "execution_count": 122,
   "metadata": {},
   "outputs": [
    {
     "data": {
      "text/plain": [
       "<matplotlib.axes._subplots.AxesSubplot at 0x1f139a43c18>"
      ]
     },
     "execution_count": 122,
     "metadata": {},
     "output_type": "execute_result"
    },
    {
     "data": {
      "image/png": "[encoded data removed]",
      "text/plain": [
       "<Figure size 432x288 with 1 Axes>"
      ]
     },
     "metadata": {
      "needs_background": "light"
     },
     "output_type": "display_data"
    }
   ],
   "source": [
    "sns.countplot(x='NIVEL_ED',data=df_amv_filtered, palette='viridis')"
   ]
  },
  {
   "cell_type": "code",
   "execution_count": 123,
   "metadata": {},
   "outputs": [
    {
     "data": {
      "text/plain": [
       "<matplotlib.axes._subplots.AxesSubplot at 0x1f139aa28d0>"
      ]
     },
     "execution_count": 123,
     "metadata": {},
     "output_type": "execute_result"
    },
    {
     "data": {
      "image/png": "[encoded data removed]",
      "text/plain": [
       "<Figure size 432x288 with 1 Axes>"
      ]
     },
     "metadata": {
      "needs_background": "light"
     },
     "output_type": "display_data"
    }
   ],
   "source": [
    "sns.barplot(x='NIVEL_ED', y='IPCF', data=df_amv_filtered, palette='viridis')"
   ]
  },
  {
   "cell_type": "markdown",
   "metadata": {},
   "source": [
    "#### Describe del nivel educativo de Mujeres"
   ]
  },
  {
   "cell_type": "code",
   "execution_count": 112,
   "metadata": {},
   "outputs": [
    {
     "data": {
      "text/plain": [
       "count    2407.000000\n",
       "mean        2.619028\n",
       "std         1.798176\n",
       "min         1.000000\n",
       "25%         1.000000\n",
       "50%         2.000000\n",
       "75%         3.500000\n",
       "max         7.000000\n",
       "Name: NIVEL_ED, dtype: float64"
      ]
     },
     "execution_count": 112,
     "metadata": {},
     "output_type": "execute_result"
    }
   ],
   "source": [
    "df_amm_filtered['NIVEL_ED'].describe()"
   ]
  },
  {
   "cell_type": "code",
   "execution_count": 130,
   "metadata": {},
   "outputs": [
    {
     "data": {
      "text/plain": [
       "<matplotlib.axes._subplots.AxesSubplot at 0x1f139d155c0>"
      ]
     },
     "execution_count": 130,
     "metadata": {},
     "output_type": "execute_result"
    },
    {
     "data": {
      "image/png": "[encoded data removed]",
      "text/plain": [
       "<Figure size 432x288 with 1 Axes>"
      ]
     },
     "metadata": {
      "needs_background": "light"
     },
     "output_type": "display_data"
    }
   ],
   "source": [
    "sns.barplot(x='NIVEL_ED', y='IPCF', data=df_amm_filtered,  palette='viridis')"
   ]
  },
  {
   "cell_type": "code",
   "execution_count": 131,
   "metadata": {},
   "outputs": [
    {
     "data": {
      "text/plain": [
       "<matplotlib.axes._subplots.AxesSubplot at 0x1f139d45c50>"
      ]
     },
     "execution_count": 131,
     "metadata": {},
     "output_type": "execute_result"
    },
    {
     "data": {
      "image/png": "[encoded data removed]",
      "text/plain": [
       "<Figure size 432x288 with 1 Axes>"
      ]
     },
     "metadata": {
      "needs_background": "light"
     },
     "output_type": "display_data"
    }
   ],
   "source": [
    "sns.countplot(x='NIVEL_ED',data=df_amm_filtered, palette='viridis')"
   ]
  },
  {
   "cell_type": "markdown",
   "metadata": {},
   "source": [
    "#### Analisis de comportamiento de la variable Estado laboral en relacion a sexo, valores de referencia:\n",
    "##### * 0 - Entrevista individual no realizada\n",
    "#### * 1 - Ocupado\n",
    "#### * 2 - Desocupado\n",
    "#### * 3 - Inactivo\n",
    "#### * 4 - Menor de 10 años"
   ]
  },
  {
   "cell_type": "markdown",
   "metadata": {},
   "source": [
    "##### Analisis de varones"
   ]
  },
  {
   "cell_type": "code",
   "execution_count": 133,
   "metadata": {},
   "outputs": [
    {
     "data": {
      "text/plain": [
       "count    1778.000000\n",
       "mean        2.345332\n",
       "std         0.933937\n",
       "min         0.000000\n",
       "25%         1.000000\n",
       "50%         3.000000\n",
       "75%         3.000000\n",
       "max         3.000000\n",
       "Name: ESTADO, dtype: float64"
      ]
     },
     "execution_count": 133,
     "metadata": {},
     "output_type": "execute_result"
    }
   ],
   "source": [
    "df_amv_filtered['ESTADO'].describe()"
   ]
  },
  {
   "cell_type": "code",
   "execution_count": 134,
   "metadata": {},
   "outputs": [
    {
     "data": {
      "text/plain": [
       "<matplotlib.axes._subplots.AxesSubplot at 0x1f139de3518>"
      ]
     },
     "execution_count": 134,
     "metadata": {},
     "output_type": "execute_result"
    },
    {
     "data": {
      "image/png": "[encoded data removed]",
      "text/plain": [
       "<Figure size 432x288 with 1 Axes>"
      ]
     },
     "metadata": {
      "needs_background": "light"
     },
     "output_type": "display_data"
    }
   ],
   "source": [
    "sns.countplot(x='ESTADO',data=df_amv_filtered, palette='viridis')"
   ]
  },
  {
   "cell_type": "code",
   "execution_count": 138,
   "metadata": {},
   "outputs": [
    {
     "data": {
      "text/plain": [
       "<matplotlib.axes._subplots.AxesSubplot at 0x1f139eed668>"
      ]
     },
     "execution_count": 138,
     "metadata": {},
     "output_type": "execute_result"
    },
    {
     "data": {
      "image/png": "[encoded data removed]",
      "text/plain": [
       "<Figure size 432x288 with 1 Axes>"
      ]
     },
     "metadata": {
      "needs_background": "light"
     },
     "output_type": "display_data"
    }
   ],
   "source": [
    "sns.barplot(x='ESTADO', y='IPCF', data=df_amv_filtered,  palette='viridis')"
   ]
  },
  {
   "cell_type": "markdown",
   "metadata": {},
   "source": [
    "##### Analisis de mujeres"
   ]
  },
  {
   "cell_type": "code",
   "execution_count": 135,
   "metadata": {},
   "outputs": [
    {
     "data": {
      "text/plain": [
       "count    2407.000000\n",
       "mean        2.785625\n",
       "std         0.617486\n",
       "min         0.000000\n",
       "25%         3.000000\n",
       "50%         3.000000\n",
       "75%         3.000000\n",
       "max         3.000000\n",
       "Name: ESTADO, dtype: float64"
      ]
     },
     "execution_count": 135,
     "metadata": {},
     "output_type": "execute_result"
    }
   ],
   "source": [
    "df_amm_filtered['ESTADO'].describe()"
   ]
  },
  {
   "cell_type": "code",
   "execution_count": 136,
   "metadata": {},
   "outputs": [
    {
     "data": {
      "text/plain": [
       "<matplotlib.axes._subplots.AxesSubplot at 0x1f139e452b0>"
      ]
     },
     "execution_count": 136,
     "metadata": {},
     "output_type": "execute_result"
    },
    {
     "data": {
      "image/png": "[encoded data removed]",
      "text/plain": [
       "<Figure size 432x288 with 1 Axes>"
      ]
     },
     "metadata": {
      "needs_background": "light"
     },
     "output_type": "display_data"
    }
   ],
   "source": [
    "sns.countplot(x='ESTADO',data=df_amm_filtered, palette='viridis')"
   ]
  },
  {
   "cell_type": "code",
   "execution_count": 137,
   "metadata": {},
   "outputs": [
    {
     "data": {
      "text/plain": [
       "<matplotlib.axes._subplots.AxesSubplot at 0x1f139de3780>"
      ]
     },
     "execution_count": 137,
     "metadata": {},
     "output_type": "execute_result"
    },
    {
     "data": {
      "image/png": "[encoded data removed]",
      "text/plain": [
       "<Figure size 432x288 with 1 Axes>"
      ]
     },
     "metadata": {
      "needs_background": "light"
     },
     "output_type": "display_data"
    }
   ],
   "source": [
    "sns.barplot(x='ESTADO', y='IPCF', data=df_amm_filtered,  palette='viridis')"
   ]
  },
  {
   "cell_type": "code",
   "execution_count": null,
   "metadata": {},
   "outputs": [],
   "source": []
  }
 ],
 "metadata": {
  "kernelspec": {
   "display_name": "Python 3",
   "language": "python",
   "name": "python3"
  },
  "language_info": {
   "codemirror_mode": {
    "name": "ipython",
    "version": 3
   },
   "file_extension": ".py",
   "mimetype": "text/x-python",
   "name": "python",
   "nbconvert_exporter": "python",
   "pygments_lexer": "ipython3",
   "version": "3.7.3"
  }
 },
 "nbformat": 4,
 "nbformat_minor": 2
}
